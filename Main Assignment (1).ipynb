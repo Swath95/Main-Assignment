{
 "cells": [
  {
   "cell_type": "markdown",
   "id": "8f7c1b7a",
   "metadata": {},
   "source": [
    "Knowledge Test"
   ]
  },
  {
   "cell_type": "code",
   "execution_count": 4,
   "id": "3330e8a8",
   "metadata": {},
   "outputs": [
    {
     "name": "stdout",
     "output_type": "stream",
     "text": [
      "Enter the no: 10\n",
      "34\n"
     ]
    }
   ],
   "source": [
    "#Q1. Write a function to print the fibonaaci series\n",
    "\n",
    "#Ans. \n",
    "\n",
    "# Fibonacci series is a pattern of numbers where each number is the result of addition of the previous two consecutive numbers.\n",
    "# The series starts with 0 and 1 and the 3rd no is 0+1=1.\n",
    "\n",
    "num = int(input(\"Enter the no: \"))\n",
    "a = 0\n",
    "b = 1\n",
    "for n in range(0,num):\n",
    "    if (n<=1):\n",
    "        c = n\n",
    "    else:\n",
    "         c = a+b\n",
    "         a = b\n",
    "         b = c\n",
    "print(c)      "
   ]
  },
  {
   "cell_type": "code",
   "execution_count": 23,
   "id": "5427ef4f",
   "metadata": {
    "scrolled": true
   },
   "outputs": [
    {
     "name": "stdout",
     "output_type": "stream",
     "text": [
      "Enter a number: 153\n",
      "153 is an Armstrong number\n"
     ]
    }
   ],
   "source": [
    "#Q2. What are Armstrong numbers? Write a function if a number is Armstrong number or not.\n",
    "\n",
    "#Ans. A number is considered to be an Armstrong number if the sum of cubes of its digit is equal to the number itself.\n",
    "\n",
    "#For eg., consider the no 153.\n",
    "# 1^3 + 5^3 + 3^3 = 1+125+27= 153. Hence 153 is an armstrong no.     \n",
    "        \n",
    "          \n",
    "num = int(input(\"Enter a number: \"))\n",
    "\n",
    "sum = 0\n",
    "\n",
    "temp = num\n",
    "while temp > 0:\n",
    "   digit = temp % 10\n",
    "   sum += digit ** 3\n",
    "   temp //= 10\n",
    "\n",
    "if num == sum:\n",
    "   print(num,\"is an Armstrong number\")\n",
    "else:\n",
    "   print(num,\"is not an Armstrong number\")\n",
    "\n",
    "    "
   ]
  },
  {
   "cell_type": "code",
   "execution_count": 13,
   "id": "e321c671",
   "metadata": {},
   "outputs": [],
   "source": [
    "#Q3. Difference between list and tuple. Support your answer with coding example.\n",
    "\n",
    "#Ans. \n",
    "\n",
    "# Lists and tuples are two of the most commonly used data structures in Python.They are both sequence data types that store a collection of items.\n",
    "# Lists are mutable while tuples are immutable, and this marks the KEY difference between the two, i.e., we can change/modify the values of a list but we cannot change/modify the values of a tuple.\n",
    "# Syntax of list and tuple is also different.Lists are surrounded by square brackets [] and Tuples are surrounded by parenthesis ().\n",
    "# Tuples have a fixed length while lists have a variable length. This means we can change the size of a created list but we cannot change the size of an existing tuple.\n",
    "# List consumes more memory than tuple.\n",
    "\n",
    "# for eg.\n",
    "my_lst = [1,2,3,4,5]\n",
    "my_tup = (1,2,3,4,5)"
   ]
  },
  {
   "cell_type": "code",
   "execution_count": null,
   "id": "5cefca97",
   "metadata": {},
   "outputs": [],
   "source": [
    "#Q4. What is python doc String\n",
    "\n",
    "#Ans.\n",
    "\n",
    "# Python documentation strings (or docstrings) provide a convenient way of associating documentation with Python modules, functions, classes, and methods.\n",
    "# It’s specified in source code that is used, like a comment, to document a specific segment of code.\n",
    "# The docstrings are declared using ”’triple single quotes”’ or “””triple double quotes””” just below the class, method or function declaration. All functions should have a docstring.\n",
    "\n",
    "#Eg.\n",
    "\n",
    "def square(n):\n",
    "    '''Takes in a number n, returns the square of n'''\n",
    "    return n**2\n",
    "\n",
    "#Inside the triple quotation marks is the docstring of the function"
   ]
  },
  {
   "cell_type": "markdown",
   "id": "796d384e",
   "metadata": {},
   "source": [
    "# Research Test"
   ]
  },
  {
   "cell_type": "code",
   "execution_count": null,
   "id": "f4f579a4",
   "metadata": {},
   "outputs": [],
   "source": [
    "Q1. what is PEP 8\n",
    "\n",
    "Ans.\n",
    "\n",
    "# PEP 8, sometimes spelled PEP8 or PEP-8, is a document that provides guidelines and best practices on how to write Python code. \n",
    "# PEP stands for Python Enhancement Proposal and it is a document that describes new features proposed for Python and documents aspects of Python, like design and style, for the community.\n",
    "# PEP 8 exists to improve the readability of Python code. PEP 8 describes how the developer can write beautiful code.\n",
    "# The key indentation rules laid out by PEP 8 are the following:\n",
    "\n",
    "   * Use 4 consecutive spaces to indicate indentation.\n",
    "   * Prefer spaces over tabs."
   ]
  },
  {
   "cell_type": "code",
   "execution_count": null,
   "id": "ed81b875",
   "metadata": {},
   "outputs": [],
   "source": [
    "Q2. difference between range and xrange\n",
    "\n",
    "Ans.\n",
    "\n",
    "* The range() and xrange() are two functions that could be used to iterate a certain number of times in for loops in Python.\n",
    "* In Python 3, there is no xrange, but the range function behaves like xrange in Python 2. \n",
    "* If you want to write code that will run on both Python 2 and Python 3, you should use range().\n",
    "\n",
    "    range() – This returns a range object (a type of iterable).\n",
    "    xrange() – This function returns the generator object that can be used to display numbers only by looping.\n",
    "               The only particular range is displayed on demand and hence called “lazy evaluation“.\n",
    "* Return Type\n",
    "  range() returns – range object. \n",
    "  xrange() returns – xrange() object. \n",
    "* The variable storing the range created by range() takes more memory as compared to the variable storing the range using xrange().\n",
    "* As range() returns the list, all the operations that can be applied on the list can be used on it. \n",
    "  On the other hand, as xrange() returns the xrange object, operations associated to list cannot be applied on them, hence a disadvantage.\n",
    "* xrange() is faster in implementation than range().\n",
    "* Important Points: \n",
    "\n",
    "   - If you want to write code that will run on both Python 2 and Python 3, use range() as the xrange function is deprecated in Python 3.\n",
    "   - range() is faster if iterating over the same sequence multiple times.\n",
    "   - xrange() has to reconstruct the integer object every time, but range() will have real integer objects. \n",
    "    \n"
   ]
  },
  {
   "cell_type": "code",
   "execution_count": null,
   "id": "53a5d53f",
   "metadata": {},
   "outputs": [],
   "source": [
    "Q3. What are global and local varibales support your answer with coding\n",
    "\n",
    "Ans.\n",
    "\n",
    "# Global variables are those which are not defined inside any function and have a global scope whereas local variables are those which are defined inside a function and its scope is limited to that function only. \n",
    "# In other words, we can say that local variables are accessible only inside the function in which it was initialized whereas the global variables are accessible throughout the program and inside every function. "
   ]
  },
  {
   "cell_type": "code",
   "execution_count": 8,
   "id": "76c97fee",
   "metadata": {
    "scrolled": false
   },
   "outputs": [
    {
     "name": "stdout",
     "output_type": "stream",
     "text": [
      "I love python\n",
      "Inside function: I love python\n"
     ]
    },
    {
     "ename": "NameError",
     "evalue": "name 's' is not defined",
     "output_type": "error",
     "traceback": [
      "\u001b[1;31m---------------------------------------------------------------------------\u001b[0m",
      "\u001b[1;31mNameError\u001b[0m                                 Traceback (most recent call last)",
      "\u001b[1;32m~\\AppData\\Local\\Temp/ipykernel_532/971242810.py\u001b[0m in \u001b[0;36m<module>\u001b[1;34m\u001b[0m\n\u001b[0;32m     22\u001b[0m \u001b[1;33m\u001b[0m\u001b[0m\n\u001b[0;32m     23\u001b[0m \u001b[0mf\u001b[0m\u001b[1;33m(\u001b[0m\u001b[1;33m)\u001b[0m\u001b[1;33m\u001b[0m\u001b[1;33m\u001b[0m\u001b[0m\n\u001b[1;32m---> 24\u001b[1;33m \u001b[0mprint\u001b[0m\u001b[1;33m(\u001b[0m\u001b[0ms\u001b[0m\u001b[1;33m)\u001b[0m\u001b[1;33m\u001b[0m\u001b[1;33m\u001b[0m\u001b[0m\n\u001b[0m\u001b[0;32m     25\u001b[0m \u001b[1;33m\u001b[0m\u001b[0m\n",
      "\u001b[1;31mNameError\u001b[0m: name 's' is not defined"
     ]
    }
   ],
   "source": [
    "# Local Variables\n",
    "\n",
    " #* Local variables are those which are initialized inside a function and belongs only to that particular function. It cannot be accessed anywhere outside the function.\n",
    "\n",
    "      #* Example: Creating local variables\n",
    "        \n",
    " #1.\n",
    "\n",
    "def f():\n",
    "     \n",
    "    s = \"I love python\"\n",
    "    print(s)   \n",
    "    \n",
    "f()  \n",
    " \n",
    "\n",
    " #2.\n",
    "def f():\n",
    "        \n",
    "    s = \"I love python\"\n",
    "    print(\"Inside function:\", s)\n",
    "        \n",
    "f()   \n",
    "print(s)\n",
    "    "
   ]
  },
  {
   "cell_type": "code",
   "execution_count": 9,
   "id": "f5202790",
   "metadata": {
    "scrolled": true
   },
   "outputs": [
    {
     "name": "stdout",
     "output_type": "stream",
     "text": [
      "Inside Function: I love python\n",
      "Outside Function: I love python\n"
     ]
    }
   ],
   "source": [
    "# Global Variable\n",
    "\n",
    "# The global variables are those which are defined outside any function and which are accessible throughout the program i.e. inside and outside of every function Let’s see how to create a global variable.\n",
    "\n",
    "  #Example: Defining and accessing global variables\n",
    "    \n",
    "def f():\n",
    "    print(\"Inside Function:\", s)\n",
    " \n",
    "s = \"I love python\"\n",
    "f()\n",
    "print(\"Outside Function:\", s)\n",
    " "
   ]
  },
  {
   "cell_type": "code",
   "execution_count": 10,
   "id": "02e81f1f",
   "metadata": {},
   "outputs": [
    {
     "name": "stdout",
     "output_type": "stream",
     "text": [
      "Anaconda\n",
      "I love python\n"
     ]
    }
   ],
   "source": [
    "# The variable s is defined as the global variable and is used both inside the function as well as outside the function.\n",
    "\n",
    "# Eg.2..if we change the value of variable inside of the function f()\n",
    "\n",
    "def f():\n",
    "    s = \"Anaconda\"\n",
    "    print(s)\n",
    "\n",
    "s = \"I love python\"\n",
    "f()\n",
    "print(s)"
   ]
  },
  {
   "cell_type": "code",
   "execution_count": null,
   "id": "bf3da682",
   "metadata": {},
   "outputs": [],
   "source": [
    "# Q4. Difference between python 2 and python 3\n",
    "\n",
    "# Ans.\n",
    "\n",
    "# One of the programming languages that has taken the world of technology to a whole new level is Python. The two major versions of Python that were introduced to the world were Python 2 and Python 3.\n",
    "# Python 2 was successful in implementing the technical details of the Python Enhancement Proposal (PEP).\n",
    "# Python 3 is backward incompatible and aims at eliminating the problems which new programmers face while learning a programming language.\n",
    "\n",
    "# Difference between Python 2 and Python 3\n",
    "\n",
    "* In Python 2, print is considered to be a statement and not a function.In Python 3, print is considered to be a function and     not a statement.\n",
    "* In Python 2, strings are stored as ASCII by default. In Python 3, strings are stored as UNICODE by default.\n",
    "* On the division of two integers, we get an integral value in Python 2. For instance, 7/2 yields 3 in Python 2. On the           division of two integers, we get a floating-point value in Python 3. For instance, 7/2 yields 3.5 in Python 3.\n",
    "* In Python 2, exceptions are enclosed in notations. In Python 3, exceptions are enclosed in parentheses.\n",
    "* The values of global variables do change in Python 2 if they are used inside a for-loop. The value of variables never           changes in Python 3.\n",
    "* In Python 2, the xrange() function has been defined for iterations. In Python 3, the new Range() function was introduced to     perform iterations.\n",
    "* Python 2 was mostly used to become a DevOps Engineer. It is no longer in use after 2020. Python 3 is used in a lot of fields   like Software Engineering, Data Science, etc.\n"
   ]
  },
  {
   "cell_type": "code",
   "execution_count": 11,
   "id": "e57f758b",
   "metadata": {},
   "outputs": [
    {
     "name": "stdout",
     "output_type": "stream",
     "text": [
      "Mirror palindrome\n",
      "Mirror palindrome\n"
     ]
    }
   ],
   "source": [
    "#Q5. What are mirrored palindrome? Write a program to check if a string is mirrored palindrome or not?\n",
    "\n",
    "#Ans.\n",
    "\n",
    "# Mirrored Palindromes are palindromes which are graphically reversible.\n",
    "# Not all letters in mirrored palindromes necessarily have symmetry about a vertical axis since some letters are mirror images of others. \n",
    "# Examples are MADAM, WOT TOW etc.\n",
    "\n",
    "def mirror_palindrome(n):\n",
    "    if n == n[::-1]:\n",
    "        print('Mirror palindrome')\n",
    "    else:\n",
    "        print('Not a mirror palindrome')\n",
    "\n",
    "mirror_palindrome('madam')\n",
    "mirror_palindrome('wot tow')\n",
    "\n"
   ]
  },
  {
   "cell_type": "code",
   "execution_count": null,
   "id": "728baba5",
   "metadata": {},
   "outputs": [],
   "source": []
  }
 ],
 "metadata": {
  "kernelspec": {
   "display_name": "Python 3 (ipykernel)",
   "language": "python",
   "name": "python3"
  },
  "language_info": {
   "codemirror_mode": {
    "name": "ipython",
    "version": 3
   },
   "file_extension": ".py",
   "mimetype": "text/x-python",
   "name": "python",
   "nbconvert_exporter": "python",
   "pygments_lexer": "ipython3",
   "version": "3.9.7"
  }
 },
 "nbformat": 4,
 "nbformat_minor": 5
}
